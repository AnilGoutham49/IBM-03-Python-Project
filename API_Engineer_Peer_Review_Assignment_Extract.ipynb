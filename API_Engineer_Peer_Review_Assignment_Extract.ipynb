{
 "cells": [
  {
   "cell_type": "markdown",
   "metadata": {},
   "source": [
    "<center>\n",
    "    <img src=\"https://gitlab.com/ibm/skills-network/courses/placeholder101/-/raw/master/labs/module%201/images/IDSNlogo.png\" width=\"300\" alt=\"cognitiveclass.ai logo\"  />\n",
    "</center>\n"
   ]
  },
  {
   "cell_type": "markdown",
   "metadata": {},
   "source": [
    "# Peer Review Assignment - Data Engineer - Extract API Data\n"
   ]
  },
  {
   "cell_type": "markdown",
   "metadata": {},
   "source": [
    "Estimated time needed: **20** minutes\n"
   ]
  },
  {
   "cell_type": "markdown",
   "metadata": {},
   "source": [
    "## Objectives\n",
    "\n",
    "In this part you will:\n",
    "\n",
    "*   Collect exchange rate data using an API\n",
    "*   Store the data as a CSV\n"
   ]
  },
  {
   "cell_type": "markdown",
   "metadata": {},
   "source": [
    "For this lab, we are going to be using Python and several Python libraries. Some of these libraries might be installed in your lab environment or in SN Labs. Others may need to be installed by you. The cells below will install these libraries when executed.\n"
   ]
  },
  {
   "cell_type": "code",
   "execution_count": null,
   "metadata": {},
   "outputs": [],
   "source": [
    "#!pip install pandas\n",
    "#!pip install requests"
   ]
  },
  {
   "cell_type": "markdown",
   "metadata": {},
   "source": [
    "## Imports\n",
    "\n",
    "Import any additional libraries you may need here.\n"
   ]
  },
  {
   "cell_type": "code",
   "execution_count": 1,
   "metadata": {},
   "outputs": [],
   "source": [
    "import requests\n",
    "import pandas as pd"
   ]
  },
  {
   "cell_type": "markdown",
   "metadata": {},
   "source": [
    "## Extract Data Using an API\n"
   ]
  },
  {
   "cell_type": "markdown",
   "metadata": {},
   "source": [
    "Using ExchangeRate-API we will extract currency exchange rate data. Use the below steps to get the access key and to get the data.\n",
    "\n",
    "1.  Open the url : [https://exchangeratesapi.io/](https://exchangeratesapi.io/?utm_medium=Exinfluencer&utm_source=Exinfluencer&utm_content=000026UJ&utm_term=10006555&utm_id=NA-SkillsNetwork-Channel-SkillsNetworkCoursesIBMDeveloperSkillsNetworkPY0221ENSkillsNetwork23455645-2021-01-01) and create a free account.\n",
    "2.  Once the account is created. You will get the Get the Free API key option on the top as shown below:\n",
    "\n",
    "<img src=\"https://cf-courses-data.s3.us.cloud-object-storage.appdomain.cloud/IBMDeveloperSkillsNetwork-PY0221EN-SkillsNetwork/labs/module%206/Final%20Assignment/Images/getapi.png\"/>\n",
    "\n",
    "3.  Copy the API key and use in the url in Question 1.\n"
   ]
  },
  {
   "cell_type": "markdown",
   "metadata": {},
   "source": [
    "### Call the API\n",
    "\n",
    "<b> Question 1</b> Using the `requests` library call the endpoint given above and save the text, remember the first few characters of the output:\n"
   ]
  },
  {
   "cell_type": "code",
   "execution_count": 2,
   "metadata": {},
   "outputs": [],
   "source": [
    "# Write your code here\n",
    "url = \"http://api.exchangeratesapi.io/v1/latest?base=EUR&access_key=e8d9be9700fcc9bc1d78c4a7253b419e\"  #Make sure to change ******* to your API key.\n",
    "html_data = requests.get(url).text"
   ]
  },
  {
   "cell_type": "code",
   "execution_count": 6,
   "metadata": {},
   "outputs": [
    {
     "data": {
      "text/plain": [
       "'{\"success\":true,\"timestamp\":1632647943,\"base\":\"EUR\",\"date\":\"2021-09-26\",\"rates\":{\"AED\":4.304841,\"AFN\":103.078752,\"ALL\":121.479309,\"AMD\":565.190571,\"ANG\":2.103402,\"AOA\":704.222176,\"ARS\":115.490499,\"AUD\":1.613784,\"AWG\":2.110204,\"AZN\":1.99707,\"BAM\":1.953139,\"BBD\":2.36604,\"BDT\":99.885221,\"BGN\":1.956324,\"BHD\":0.441583,\"BIF\":2338.159933,\"BMD\":1.17201,\"BND\":1.585016,\"BOB\":8.091795,\"BRL\":6.252795,\"BSD\":1.171785,\"BTC\":2.8031075e-5,\"BTN\":86.375361,\"BWP\":13.181998,\"BYN\":2.933058,\"BYR\":22971.395832,\"BZD\":2.362045,\"CAD\":1.483847,\"CDF\":2346.954602,\"CHF\":1.08236,\"CLF\":0.033675,\"CLP\":929.205145,\"CNY\":7.579042,\"COP\":4496.662454,\"CRC\":732.20104,\"CUC\":1.17201,\"CUP\":31.058265,\"CVE\":110.814007,\"CZK\":25.443873,\"DJF\":208.290077,\"DKK\":7.435987,\"DOP\":66.136985,\"DZD\":160.434151,\"EGP\":18.394,\"ERN\":17.585956,\"ETB\":54.088721,\"EUR\":1,\"FJD\":2.452436,\"FKP\":0.846754,\"GBP\":0.85642,\"GEL\":3.645409,\"GGP\":0.846754,\"GHS\":7.079398,\"GIP\":0.846754,\"GMD\":60.417572,\"GNF\":11450.538033,\"GTQ\":9.06411,\"GYD\":244.952909,\"HKD\":9.124954,\"HNL\":28.367143,\"HRK\":7.504268,\"HTG\":117.183523,\"HUF\":356.882949,\"IDR\":16740.697715,\"ILS\":3.749096,\"IMP\":0.846754,\"INR\":86.783297,\"IQD\":1710.548582,\"IRR\":49447.101951,\"ISK\":150.498255,\"JEP\":0.846753,\"JMD\":173.585208,\"JOD\":0.831001,\"JPY\":129.794837,\"KES\":129.394361,\"KGS\":99.390902,\"KHR\":4787.661226,\"KMF\":492.600249,\"KPW\":1054.809009,\"KRW\":1383.276962,\"KWD\":0.352821,\"KYD\":0.976496,\"KZT\":498.732755,\"LAK\":11532.578725,\"LBP\":1790.831676,\"LKR\":234.083024,\"LRD\":200.535333,\"LSL\":17.240714,\"LTL\":3.460641,\"LVL\":0.708938,\"LYD\":5.315111,\"MAD\":10.536816,\"MDL\":20.747211,\"MGA\":4605.999673,\"MKD\":61.470295,\"MMK\":2193.176807,\"MNT\":3327.615053,\"MOP\":9.39765,\"MRO\":418.407365,\"MUR\":50.088076,\"MVR\":18.107998,\"MWK\":955.188547,\"MXN\":23.504313,\"MYR\":4.908968,\"MZN\":74.80984,\"NAD\":17.521992,\"NGN\":482.286479,\"NIO\":41.313794,\"NOK\":10.005063,\"NPR\":138.200458,\"NZD\":1.667899,\"OMR\":0.451043,\"PAB\":1.171785,\"PEN\":4.814662,\"PGK\":4.1431,\"PHP\":59.397719,\"PKR\":198.19123,\"PLN\":4.605396,\"PYG\":8064.830869,\"QAR\":4.267333,\"RON\":4.950223,\"RSD\":117.4182,\"RUB\":84.986668,\"RWF\":1166.149941,\"SAR\":4.396227,\"SBD\":9.444132,\"SCR\":16.336373,\"SDG\":516.274712,\"SEK\":10.139297,\"SGD\":1.586169,\"SHP\":1.614331,\"SLL\":12399.866106,\"SOS\":685.626242,\"SRD\":25.105045,\"STD\":24258.240544,\"SVC\":10.252872,\"SYP\":1473.730156,\"SZL\":17.521983,\"THB\":39.183855,\"TJS\":13.282697,\"TMT\":4.102035,\"TND\":3.284563,\"TOP\":2.641246,\"TRY\":10.411672,\"TTD\":7.964764,\"TWD\":32.512968,\"TZS\":2717.891563,\"UAH\":31.324535,\"UGX\":4136.59984,\"USD\":1.17201,\"UYU\":49.975267,\"UZS\":12511.207051,\"VEF\":250611157048.6555,\"VND\":26680.807455,\"VUV\":130.833505,\"WST\":3.000719,\"XAF\":655.054347,\"XAG\":0.052262,\"XAU\":0.00067,\"XCD\":3.167416,\"XDR\":0.825862,\"XOF\":653.981965,\"XPF\":119.604046,\"YER\":294.061523,\"ZAR\":17.483038,\"ZMK\":10549.500546,\"ZMW\":19.452395,\"ZWL\":377.386739}}'"
      ]
     },
     "execution_count": 6,
     "metadata": {},
     "output_type": "execute_result"
    }
   ],
   "source": [
    "html_data"
   ]
  },
  {
   "cell_type": "markdown",
   "metadata": {},
   "source": [
    "### Save as DataFrame\n",
    "\n",
    "<b> Question 2</b>  Using the data gathered turn it into a `pandas` dataframe. The dataframe should have the Currency as the index and `Rate` as their columns. Make sure to drop unnecessary columns.\n"
   ]
  },
  {
   "cell_type": "code",
   "execution_count": 8,
   "metadata": {},
   "outputs": [],
   "source": [
    "# Turn the data into a dataframe\n",
    "import json\n",
    "df_dict = json.loads(html_data)\n",
    "df = pd.DataFrame.from_dict(df_dict[\"rates\"].items())"
   ]
  },
  {
   "cell_type": "code",
   "execution_count": 10,
   "metadata": {},
   "outputs": [],
   "source": [
    "# Drop unnescessary columns\n",
    "df.rename(columns = {0 : 'Currency', 1 : 'Rate'}, inplace=True)\n",
    "df.set_index('Currency', inplace=True)"
   ]
  },
  {
   "cell_type": "code",
   "execution_count": 16,
   "metadata": {},
   "outputs": [],
   "source": [
    "df.index.name = None"
   ]
  },
  {
   "cell_type": "code",
   "execution_count": 17,
   "metadata": {},
   "outputs": [
    {
     "data": {
      "text/html": [
       "<div>\n",
       "<style scoped>\n",
       "    .dataframe tbody tr th:only-of-type {\n",
       "        vertical-align: middle;\n",
       "    }\n",
       "\n",
       "    .dataframe tbody tr th {\n",
       "        vertical-align: top;\n",
       "    }\n",
       "\n",
       "    .dataframe thead th {\n",
       "        text-align: right;\n",
       "    }\n",
       "</style>\n",
       "<table border=\"1\" class=\"dataframe\">\n",
       "  <thead>\n",
       "    <tr style=\"text-align: right;\">\n",
       "      <th></th>\n",
       "      <th>Rate</th>\n",
       "    </tr>\n",
       "  </thead>\n",
       "  <tbody>\n",
       "    <tr>\n",
       "      <th>AED</th>\n",
       "      <td>4.304841</td>\n",
       "    </tr>\n",
       "    <tr>\n",
       "      <th>AFN</th>\n",
       "      <td>103.078752</td>\n",
       "    </tr>\n",
       "    <tr>\n",
       "      <th>ALL</th>\n",
       "      <td>121.479309</td>\n",
       "    </tr>\n",
       "    <tr>\n",
       "      <th>AMD</th>\n",
       "      <td>565.190571</td>\n",
       "    </tr>\n",
       "    <tr>\n",
       "      <th>ANG</th>\n",
       "      <td>2.103402</td>\n",
       "    </tr>\n",
       "    <tr>\n",
       "      <th>...</th>\n",
       "      <td>...</td>\n",
       "    </tr>\n",
       "    <tr>\n",
       "      <th>YER</th>\n",
       "      <td>294.061523</td>\n",
       "    </tr>\n",
       "    <tr>\n",
       "      <th>ZAR</th>\n",
       "      <td>17.483038</td>\n",
       "    </tr>\n",
       "    <tr>\n",
       "      <th>ZMK</th>\n",
       "      <td>10549.500546</td>\n",
       "    </tr>\n",
       "    <tr>\n",
       "      <th>ZMW</th>\n",
       "      <td>19.452395</td>\n",
       "    </tr>\n",
       "    <tr>\n",
       "      <th>ZWL</th>\n",
       "      <td>377.386739</td>\n",
       "    </tr>\n",
       "  </tbody>\n",
       "</table>\n",
       "<p>168 rows × 1 columns</p>\n",
       "</div>"
      ],
      "text/plain": [
       "             Rate\n",
       "AED      4.304841\n",
       "AFN    103.078752\n",
       "ALL    121.479309\n",
       "AMD    565.190571\n",
       "ANG      2.103402\n",
       "..            ...\n",
       "YER    294.061523\n",
       "ZAR     17.483038\n",
       "ZMK  10549.500546\n",
       "ZMW     19.452395\n",
       "ZWL    377.386739\n",
       "\n",
       "[168 rows x 1 columns]"
      ]
     },
     "execution_count": 17,
     "metadata": {},
     "output_type": "execute_result"
    }
   ],
   "source": [
    "df"
   ]
  },
  {
   "cell_type": "markdown",
   "metadata": {},
   "source": [
    "### Load the Data\n",
    "\n",
    "Using the dataframe save it as a CSV names `exchange_rates_1.csv`.\n"
   ]
  },
  {
   "cell_type": "code",
   "execution_count": 18,
   "metadata": {},
   "outputs": [],
   "source": [
    "# Save the Dataframe\n",
    "df.to_csv('exchange_rates_1.csv')"
   ]
  },
  {
   "cell_type": "markdown",
   "metadata": {},
   "source": [
    "Your CSV should be in this format with more currencies\n",
    "\n",
    "|     | Rates      |\n",
    "| --- | ---------- |\n",
    "| AED | 4.398618   |\n",
    "| AFN | 92.917693  |\n",
    "| ALL | 123.099093 |\n",
    "| AMD | 621.935674 |\n",
    "| ANG | 2.149648   |\n"
   ]
  },
  {
   "cell_type": "markdown",
   "metadata": {},
   "source": [
    "## Authors\n"
   ]
  },
  {
   "cell_type": "markdown",
   "metadata": {},
   "source": [
    "Ramesh Sannareddy, Joseph Santarcangelo and Azim Hirjani\n"
   ]
  },
  {
   "cell_type": "markdown",
   "metadata": {},
   "source": [
    "### Other Contributors\n"
   ]
  },
  {
   "cell_type": "markdown",
   "metadata": {},
   "source": [
    "Rav Ahuja\n"
   ]
  },
  {
   "cell_type": "markdown",
   "metadata": {},
   "source": [
    "## Change Log\n"
   ]
  },
  {
   "cell_type": "markdown",
   "metadata": {},
   "source": [
    "| Date (YYYY-MM-DD) | Version | Changed By        | Change Description                 |\n",
    "| ----------------- | ------- | ----------------- | ---------------------------------- |\n",
    "| 2021-04-15        | 0.2     | Malika            | Updated the lab from USD to EUR    |\n",
    "| 2020-11-25        | 0.1     | Ramesh Sannareddy | Created initial version of the lab |\n"
   ]
  },
  {
   "cell_type": "markdown",
   "metadata": {},
   "source": [
    "Copyright © 2020 IBM Corporation. This notebook and its source code are released under the terms of the [MIT License](https://cognitiveclass.ai/mit-license?utm_medium=Exinfluencer&utm_source=Exinfluencer&utm_content=000026UJ&utm_term=10006555&utm_id=NA-SkillsNetwork-Channel-SkillsNetworkCoursesIBMDeveloperSkillsNetworkPY0221ENSkillsNetwork23455645-2021-01-01&cm_mmc=Email_Newsletter-\\_-Developer_Ed%2BTech-\\_-WW_WW-\\_-SkillsNetwork-Courses-IBM-DA0321EN-SkillsNetwork-21426264&cm_mmca1=000026UJ&cm_mmca2=10006555&cm_mmca3=M12345678&cvosrc=email.Newsletter.M12345678&cvo_campaign=000026UJ).\n"
   ]
  }
 ],
 "metadata": {
  "kernelspec": {
   "display_name": "Python",
   "language": "python",
   "name": "conda-env-python-py"
  },
  "language_info": {
   "codemirror_mode": {
    "name": "ipython",
    "version": 3
   },
   "file_extension": ".py",
   "mimetype": "text/x-python",
   "name": "python",
   "nbconvert_exporter": "python",
   "pygments_lexer": "ipython3",
   "version": "3.6.13"
  }
 },
 "nbformat": 4,
 "nbformat_minor": 4
}
